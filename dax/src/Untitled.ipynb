{
 "cells": [
  {
   "cell_type": "code",
   "execution_count": 118,
   "metadata": {
    "ExecuteTime": {
     "end_time": "2018-08-17T15:45:08.729399Z",
     "start_time": "2018-08-17T15:45:08.254984Z"
    }
   },
   "outputs": [],
   "source": [
    "import pandas as pd"
   ]
  },
  {
   "cell_type": "code",
   "execution_count": 124,
   "metadata": {
    "ExecuteTime": {
     "end_time": "2018-08-17T15:46:17.172839Z",
     "start_time": "2018-08-17T15:46:17.010748Z"
    }
   },
   "outputs": [
    {
     "name": "stdout",
     "output_type": "stream",
     "text": [
      "connected to mongo collection\n"
     ]
    }
   ],
   "source": [
    "from pymongo import MongoClient\n",
    "import time\n",
    "import api_keys\n",
    "import requests\n",
    "import gdax\n",
    "import json\n",
    "\n",
    "api = api_keys.api_keys()\n",
    "\n",
    "client = MongoClient(api.mongo)\n",
    "# specify the database and collection`\n",
    "db = client.gdax.gdaxws\n",
    "print('connected to mongo collection')\n",
    "\n",
    "# and store in local variables\n",
    "key = api.api_key\n",
    "b64secret = api.secret_key\n",
    "passphrase = api.passphrase\n",
    "\n",
    "class GAC(gdax.AuthenticatedClient):\n",
    "    def buy(self, **kwargs):\n",
    "        kwargs[\"side\"] = \"buy\"\n",
    "        r = requests.post(self.url + '/orders',\n",
    "                          data=json.dumps(kwargs),\n",
    "                          auth=self.auth,\n",
    "                          timeout=30)\n",
    "\n",
    "        print(r)\n",
    "        return r.json()\n",
    "\n",
    "    def sell(self, **kwargs):\n",
    "        kwargs[\"side\"] = \"sell\"\n",
    "        r = requests.post(self.url + '/orders',\n",
    "                          data=json.dumps(kwargs),\n",
    "                          auth=self.auth,\n",
    "                          timeout=30)\n",
    "\n",
    "        print('SOLD !!')\n",
    "        print(r)\n",
    "        db.orders.insert_one(r.json())\n",
    "        return r.json()\n",
    "\n",
    "    def getorders(self):\n",
    "        \"\"\"{'id': 'e22c9172-0276-47f7-b774-2559784c26aa', 'price': '999.85000000', \n",
    "            'size': '0.01000000', 'product_id': 'BTC-EUR', 'side': 'buy', \n",
    "            'type': 'limit', 'time_in_force': 'GTC', 'post_only': True,\n",
    "            'created_at': '2018-08-17T14:57:18.551778Z', 'fill_fees': '0.0000000000000000',\n",
    "            'filled_size': '0.00000000', 'executed_value': '0.0000000000000000', \n",
    "            'status': 'open', 'settled': False}\"\"\"\n",
    "    \n",
    "        self.openorders = client.get_orders()[0]\n",
    "        self.df_openorders = pd.DataFrame(self.openorders)\n",
    "        \n",
    "    def getbalances(self):\n",
    "        \"\"\"{'id': '459d001f-0391-4e97-89e7-ae474275e2c9', 'currency': 'BTC',\n",
    "            'balance': '0.0530287336346057', 'available': '0.0530287336346057',\n",
    "            'hold': '0.0000000000000000', 'profile_id': '5100622b-3ed2-49e4-9810-c28fb96d30b3'} \"\"\"\n",
    "\n",
    "        self.balances = client.get_accounts()\n",
    "        self.df_balances = pd.DataFrame(self.balances)"
   ]
  },
  {
   "cell_type": "code",
   "execution_count": 125,
   "metadata": {
    "ExecuteTime": {
     "end_time": "2018-08-17T15:46:17.908426Z",
     "start_time": "2018-08-17T15:46:17.425183Z"
    }
   },
   "outputs": [
    {
     "name": "stdout",
     "output_type": "stream",
     "text": [
      "EUR balance at 164.2057972936818500\n",
      "BTC balance at 0.0530287336346057\n"
     ]
    }
   ],
   "source": [
    "client = GAC(key=key,b64secret=b64secret,\n",
    "                 passphrase=passphrase,\n",
    "                 api_url=\"https://api.pro.coinbase.com\")\n",
    "    \n",
    "client.getbalances()"
   ]
  },
  {
   "cell_type": "code",
   "execution_count": 126,
   "metadata": {
    "ExecuteTime": {
     "end_time": "2018-08-17T15:46:18.355775Z",
     "start_time": "2018-08-17T15:46:17.935495Z"
    }
   },
   "outputs": [],
   "source": [
    "client.getorders()"
   ]
  },
  {
   "cell_type": "code",
   "execution_count": 127,
   "metadata": {
    "ExecuteTime": {
     "end_time": "2018-08-17T15:46:24.639530Z",
     "start_time": "2018-08-17T15:46:24.613130Z"
    }
   },
   "outputs": [
    {
     "data": {
      "text/html": [
       "<div>\n",
       "<style scoped>\n",
       "    .dataframe tbody tr th:only-of-type {\n",
       "        vertical-align: middle;\n",
       "    }\n",
       "\n",
       "    .dataframe tbody tr th {\n",
       "        vertical-align: top;\n",
       "    }\n",
       "\n",
       "    .dataframe thead th {\n",
       "        text-align: right;\n",
       "    }\n",
       "</style>\n",
       "<table border=\"1\" class=\"dataframe\">\n",
       "  <thead>\n",
       "    <tr style=\"text-align: right;\">\n",
       "      <th></th>\n",
       "      <th>available</th>\n",
       "      <th>balance</th>\n",
       "      <th>currency</th>\n",
       "      <th>hold</th>\n",
       "      <th>id</th>\n",
       "      <th>profile_id</th>\n",
       "    </tr>\n",
       "  </thead>\n",
       "  <tbody>\n",
       "    <tr>\n",
       "      <th>0</th>\n",
       "      <td>0.0530287336346057</td>\n",
       "      <td>0.0530287336346057</td>\n",
       "      <td>BTC</td>\n",
       "      <td>0.0000000000000000</td>\n",
       "      <td>459d001f-0391-4e97-89e7-ae474275e2c9</td>\n",
       "      <td>5100622b-3ed2-49e4-9810-c28fb96d30b3</td>\n",
       "    </tr>\n",
       "    <tr>\n",
       "      <th>1</th>\n",
       "      <td>0</td>\n",
       "      <td>0.0000000000000000</td>\n",
       "      <td>LTC</td>\n",
       "      <td>0.0000000000000000</td>\n",
       "      <td>ad1b7960-0dcb-440e-b60a-73ab56ab1035</td>\n",
       "      <td>5100622b-3ed2-49e4-9810-c28fb96d30b3</td>\n",
       "    </tr>\n",
       "    <tr>\n",
       "      <th>2</th>\n",
       "      <td>111.20729729368185</td>\n",
       "      <td>164.2057972936818500</td>\n",
       "      <td>EUR</td>\n",
       "      <td>52.9985000000000000</td>\n",
       "      <td>0a0fd378-71d0-4d5c-b7bb-0b48b1ff839c</td>\n",
       "      <td>5100622b-3ed2-49e4-9810-c28fb96d30b3</td>\n",
       "    </tr>\n",
       "    <tr>\n",
       "      <th>3</th>\n",
       "      <td>0</td>\n",
       "      <td>0.0000000000000000</td>\n",
       "      <td>ETH</td>\n",
       "      <td>0.0000000000000000</td>\n",
       "      <td>175a9d3f-e634-4575-bee7-96594bbaed3a</td>\n",
       "      <td>5100622b-3ed2-49e4-9810-c28fb96d30b3</td>\n",
       "    </tr>\n",
       "    <tr>\n",
       "      <th>4</th>\n",
       "      <td>0</td>\n",
       "      <td>0.0000000000000000</td>\n",
       "      <td>ETC</td>\n",
       "      <td>0.0000000000000000</td>\n",
       "      <td>a355123a-d206-4992-af06-20dce476611e</td>\n",
       "      <td>5100622b-3ed2-49e4-9810-c28fb96d30b3</td>\n",
       "    </tr>\n",
       "    <tr>\n",
       "      <th>5</th>\n",
       "      <td>0</td>\n",
       "      <td>0.0000000000000000</td>\n",
       "      <td>BCH</td>\n",
       "      <td>0.0000000000000000</td>\n",
       "      <td>5ea49af8-18ad-45d7-bf2f-e1f3b4bc7358</td>\n",
       "      <td>5100622b-3ed2-49e4-9810-c28fb96d30b3</td>\n",
       "    </tr>\n",
       "  </tbody>\n",
       "</table>\n",
       "</div>"
      ],
      "text/plain": [
       "            available               balance currency                 hold  \\\n",
       "0  0.0530287336346057    0.0530287336346057      BTC   0.0000000000000000   \n",
       "1                   0    0.0000000000000000      LTC   0.0000000000000000   \n",
       "2  111.20729729368185  164.2057972936818500      EUR  52.9985000000000000   \n",
       "3                   0    0.0000000000000000      ETH   0.0000000000000000   \n",
       "4                   0    0.0000000000000000      ETC   0.0000000000000000   \n",
       "5                   0    0.0000000000000000      BCH   0.0000000000000000   \n",
       "\n",
       "                                     id                            profile_id  \n",
       "0  459d001f-0391-4e97-89e7-ae474275e2c9  5100622b-3ed2-49e4-9810-c28fb96d30b3  \n",
       "1  ad1b7960-0dcb-440e-b60a-73ab56ab1035  5100622b-3ed2-49e4-9810-c28fb96d30b3  \n",
       "2  0a0fd378-71d0-4d5c-b7bb-0b48b1ff839c  5100622b-3ed2-49e4-9810-c28fb96d30b3  \n",
       "3  175a9d3f-e634-4575-bee7-96594bbaed3a  5100622b-3ed2-49e4-9810-c28fb96d30b3  \n",
       "4  a355123a-d206-4992-af06-20dce476611e  5100622b-3ed2-49e4-9810-c28fb96d30b3  \n",
       "5  5ea49af8-18ad-45d7-bf2f-e1f3b4bc7358  5100622b-3ed2-49e4-9810-c28fb96d30b3  "
      ]
     },
     "execution_count": 127,
     "metadata": {},
     "output_type": "execute_result"
    }
   ],
   "source": [
    "client.df_balances"
   ]
  },
  {
   "cell_type": "code",
   "execution_count": null,
   "metadata": {},
   "outputs": [],
   "source": []
  }
 ],
 "metadata": {
  "kernelspec": {
   "display_name": "Python 3",
   "language": "python",
   "name": "python3"
  },
  "language_info": {
   "codemirror_mode": {
    "name": "ipython",
    "version": 3
   },
   "file_extension": ".py",
   "mimetype": "text/x-python",
   "name": "python",
   "nbconvert_exporter": "python",
   "pygments_lexer": "ipython3",
   "version": "3.6.4"
  },
  "varInspector": {
   "cols": {
    "lenName": 16,
    "lenType": 16,
    "lenVar": 40
   },
   "kernels_config": {
    "python": {
     "delete_cmd_postfix": "",
     "delete_cmd_prefix": "del ",
     "library": "var_list.py",
     "varRefreshCmd": "print(var_dic_list())"
    },
    "r": {
     "delete_cmd_postfix": ") ",
     "delete_cmd_prefix": "rm(",
     "library": "var_list.r",
     "varRefreshCmd": "cat(var_dic_list()) "
    }
   },
   "types_to_exclude": [
    "module",
    "function",
    "builtin_function_or_method",
    "instance",
    "_Feature"
   ],
   "window_display": false
  }
 },
 "nbformat": 4,
 "nbformat_minor": 2
}
