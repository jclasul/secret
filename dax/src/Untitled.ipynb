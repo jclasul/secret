{
 "cells": [
  {
   "cell_type": "code",
   "execution_count": 118,
   "metadata": {
    "ExecuteTime": {
     "end_time": "2018-08-17T15:45:08.729399Z",
     "start_time": "2018-08-17T15:45:08.254984Z"
    }
   },
   "outputs": [],
   "source": [
    "import pandas as pd"
   ]
  },
  {
   "cell_type": "code",
   "execution_count": 124,
   "metadata": {
    "ExecuteTime": {
     "end_time": "2018-08-17T15:46:17.172839Z",
     "start_time": "2018-08-17T15:46:17.010748Z"
    }
   },
   "outputs": [
    {
     "name": "stdout",
     "output_type": "stream",
     "text": [
      "connected to mongo collection\n"
     ]
    }
   ],
   "source": [
    "from pymongo import MongoClient\n",
    "import time\n",
    "import api_keys\n",
    "import requests\n",
    "import gdax\n",
    "import json\n",
    "\n",
    "api = api_keys.api_keys()\n",
    "\n",
    "client = MongoClient(api.mongo)\n",
    "# specify the database and collection`\n",
    "db = client.gdax.gdaxws\n",
    "print('connected to mongo collection')\n",
    "\n",
    "# and store in local variables\n",
    "key = api.api_key\n",
    "b64secret = api.secret_key\n",
    "passphrase = api.passphrase\n",
    "\n",
    "class GAC(gdax.AuthenticatedClient):\n",
    "    def buy(self, **kwargs):\n",
    "        kwargs[\"side\"] = \"buy\"\n",
    "        r = requests.post(self.url + '/orders',\n",
    "                          data=json.dumps(kwargs),\n",
    "                          auth=self.auth,\n",
    "                          timeout=30)\n",
    "\n",
    "        print(r)\n",
    "        return r.json()\n",
    "\n",
    "    def sell(self, **kwargs):\n",
    "        kwargs[\"side\"] = \"sell\"\n",
    "        r = requests.post(self.url + '/orders',\n",
    "                          data=json.dumps(kwargs),\n",
    "                          auth=self.auth,\n",
    "                          timeout=30)\n",
    "\n",
    "        print('SOLD !!')\n",
    "        print(r)\n",
    "        db.orders.insert_one(r.json())\n",
    "        return r.json()\n",
    "\n",
    "    def getorders(self):\n",
    "        \"\"\"{'id': 'e22c9172-0276-47f7-b774-2559784c26aa', 'price': '999.85000000', \n",
    "            'size': '0.01000000', 'product_id': 'BTC-EUR', 'side': 'buy', \n",
    "            'type': 'limit', 'time_in_force': 'GTC', 'post_only': True,\n",
    "            'created_at': '2018-08-17T14:57:18.551778Z', 'fill_fees': '0.0000000000000000',\n",
    "            'filled_size': '0.00000000', 'executed_value': '0.0000000000000000', \n",
    "            'status': 'open', 'settled': False}\"\"\"\n",
    "    \n",
    "        self.openorders = client.get_orders()[0]\n",
    "        self.df_openorders = pd.DataFrame(self.openorders)\n",
    "        \n",
    "    def getbalances(self):\n",
    "        \"\"\"{'id': '459d001f-0391-4e97-89e7-ae474275e2c9', 'currency': 'BTC',\n",
    "            'balance': '0.0530287336346057', 'available': '0.0530287336346057',\n",
    "            'hold': '0.0000000000000000', 'profile_id': '5100622b-3ed2-49e4-9810-c28fb96d30b3'} \"\"\"\n",
    "\n",
    "        self.balances = client.get_accounts()\n",
    "        self.df_balances = pd.DataFrame(self.balances)"
   ]
  },
  {
   "cell_type": "code",
   "execution_count": 125,
   "metadata": {
    "ExecuteTime": {
     "end_time": "2018-08-17T15:46:17.908426Z",
     "start_time": "2018-08-17T15:46:17.425183Z"
    }
   },
   "outputs": [
    {
     "name": "stdout",
     "output_type": "stream",
     "text": [
      "EUR balance at 164.2057972936818500\n",
      "BTC balance at 0.0530287336346057\n"
     ]
    }
   ],
   "source": [
    "client = GAC(key=key,b64secret=b64secret,\n",
    "                 passphrase=passphrase,\n",
    "                 api_url=\"https://api.pro.coinbase.com\")\n",
    "    \n",
    "client.getbalances()"
   ]
  },
  {
   "cell_type": "code",
   "execution_count": 140,
   "metadata": {
    "ExecuteTime": {
     "end_time": "2018-08-17T16:28:40.748985Z",
     "start_time": "2018-08-17T16:28:40.724265Z"
    }
   },
   "outputs": [
    {
     "data": {
      "text/html": [
       "<div>\n",
       "<style scoped>\n",
       "    .dataframe tbody tr th:only-of-type {\n",
       "        vertical-align: middle;\n",
       "    }\n",
       "\n",
       "    .dataframe tbody tr th {\n",
       "        vertical-align: top;\n",
       "    }\n",
       "\n",
       "    .dataframe thead th {\n",
       "        text-align: right;\n",
       "    }\n",
       "</style>\n",
       "<table border=\"1\" class=\"dataframe\">\n",
       "  <thead>\n",
       "    <tr style=\"text-align: right;\">\n",
       "      <th></th>\n",
       "      <th>available</th>\n",
       "      <th>balance</th>\n",
       "      <th>currency</th>\n",
       "      <th>hold</th>\n",
       "      <th>id</th>\n",
       "      <th>profile_id</th>\n",
       "    </tr>\n",
       "  </thead>\n",
       "  <tbody>\n",
       "    <tr>\n",
       "      <th>0</th>\n",
       "      <td>0.0530287336346057</td>\n",
       "      <td>0.0530287336346057</td>\n",
       "      <td>BTC</td>\n",
       "      <td>0.0000000000000000</td>\n",
       "      <td>459d001f-0391-4e97-89e7-ae474275e2c9</td>\n",
       "      <td>5100622b-3ed2-49e4-9810-c28fb96d30b3</td>\n",
       "    </tr>\n",
       "    <tr>\n",
       "      <th>1</th>\n",
       "      <td>0</td>\n",
       "      <td>0.0000000000000000</td>\n",
       "      <td>LTC</td>\n",
       "      <td>0.0000000000000000</td>\n",
       "      <td>ad1b7960-0dcb-440e-b60a-73ab56ab1035</td>\n",
       "      <td>5100622b-3ed2-49e4-9810-c28fb96d30b3</td>\n",
       "    </tr>\n",
       "    <tr>\n",
       "      <th>2</th>\n",
       "      <td>111.20729729368185</td>\n",
       "      <td>164.2057972936818500</td>\n",
       "      <td>EUR</td>\n",
       "      <td>52.9985000000000000</td>\n",
       "      <td>0a0fd378-71d0-4d5c-b7bb-0b48b1ff839c</td>\n",
       "      <td>5100622b-3ed2-49e4-9810-c28fb96d30b3</td>\n",
       "    </tr>\n",
       "    <tr>\n",
       "      <th>3</th>\n",
       "      <td>0</td>\n",
       "      <td>0.0000000000000000</td>\n",
       "      <td>ETH</td>\n",
       "      <td>0.0000000000000000</td>\n",
       "      <td>175a9d3f-e634-4575-bee7-96594bbaed3a</td>\n",
       "      <td>5100622b-3ed2-49e4-9810-c28fb96d30b3</td>\n",
       "    </tr>\n",
       "    <tr>\n",
       "      <th>4</th>\n",
       "      <td>0</td>\n",
       "      <td>0.0000000000000000</td>\n",
       "      <td>ETC</td>\n",
       "      <td>0.0000000000000000</td>\n",
       "      <td>a355123a-d206-4992-af06-20dce476611e</td>\n",
       "      <td>5100622b-3ed2-49e4-9810-c28fb96d30b3</td>\n",
       "    </tr>\n",
       "    <tr>\n",
       "      <th>5</th>\n",
       "      <td>0</td>\n",
       "      <td>0.0000000000000000</td>\n",
       "      <td>BCH</td>\n",
       "      <td>0.0000000000000000</td>\n",
       "      <td>5ea49af8-18ad-45d7-bf2f-e1f3b4bc7358</td>\n",
       "      <td>5100622b-3ed2-49e4-9810-c28fb96d30b3</td>\n",
       "    </tr>\n",
       "  </tbody>\n",
       "</table>\n",
       "</div>"
      ],
      "text/plain": [
       "            available               balance currency                 hold  \\\n",
       "0  0.0530287336346057    0.0530287336346057      BTC   0.0000000000000000   \n",
       "1                   0    0.0000000000000000      LTC   0.0000000000000000   \n",
       "2  111.20729729368185  164.2057972936818500      EUR  52.9985000000000000   \n",
       "3                   0    0.0000000000000000      ETH   0.0000000000000000   \n",
       "4                   0    0.0000000000000000      ETC   0.0000000000000000   \n",
       "5                   0    0.0000000000000000      BCH   0.0000000000000000   \n",
       "\n",
       "                                     id                            profile_id  \n",
       "0  459d001f-0391-4e97-89e7-ae474275e2c9  5100622b-3ed2-49e4-9810-c28fb96d30b3  \n",
       "1  ad1b7960-0dcb-440e-b60a-73ab56ab1035  5100622b-3ed2-49e4-9810-c28fb96d30b3  \n",
       "2  0a0fd378-71d0-4d5c-b7bb-0b48b1ff839c  5100622b-3ed2-49e4-9810-c28fb96d30b3  \n",
       "3  175a9d3f-e634-4575-bee7-96594bbaed3a  5100622b-3ed2-49e4-9810-c28fb96d30b3  \n",
       "4  a355123a-d206-4992-af06-20dce476611e  5100622b-3ed2-49e4-9810-c28fb96d30b3  \n",
       "5  5ea49af8-18ad-45d7-bf2f-e1f3b4bc7358  5100622b-3ed2-49e4-9810-c28fb96d30b3  "
      ]
     },
     "execution_count": 140,
     "metadata": {},
     "output_type": "execute_result"
    }
   ],
   "source": [
    "client.df_balances"
   ]
  },
  {
   "cell_type": "code",
   "execution_count": 167,
   "metadata": {
    "ExecuteTime": {
     "end_time": "2018-08-17T17:35:04.922495Z",
     "start_time": "2018-08-17T17:35:04.917080Z"
    }
   },
   "outputs": [],
   "source": [
    "balances = client.df_balances.query('currency in (\"BTC\",\"EUR\")').T\n",
    "balances.rename(columns=balances.loc['currency'], inplace=True)"
   ]
  },
  {
   "cell_type": "code",
   "execution_count": 170,
   "metadata": {
    "ExecuteTime": {
     "end_time": "2018-08-17T17:35:41.692599Z",
     "start_time": "2018-08-17T17:35:41.688220Z"
    }
   },
   "outputs": [],
   "source": [
    "balances.rename(columns=balances.loc['currency'], inplace=True)"
   ]
  },
  {
   "cell_type": "code",
   "execution_count": 154,
   "metadata": {
    "ExecuteTime": {
     "end_time": "2018-08-17T17:25:50.694638Z",
     "start_time": "2018-08-17T17:25:50.691352Z"
    }
   },
   "outputs": [],
   "source": [
    "bal"
   ]
  },
  {
   "cell_type": "code",
   "execution_count": 171,
   "metadata": {
    "ExecuteTime": {
     "end_time": "2018-08-17T17:35:44.731067Z",
     "start_time": "2018-08-17T17:35:44.722906Z"
    }
   },
   "outputs": [
    {
     "data": {
      "text/html": [
       "<div>\n",
       "<style scoped>\n",
       "    .dataframe tbody tr th:only-of-type {\n",
       "        vertical-align: middle;\n",
       "    }\n",
       "\n",
       "    .dataframe tbody tr th {\n",
       "        vertical-align: top;\n",
       "    }\n",
       "\n",
       "    .dataframe thead th {\n",
       "        text-align: right;\n",
       "    }\n",
       "</style>\n",
       "<table border=\"1\" class=\"dataframe\">\n",
       "  <thead>\n",
       "    <tr style=\"text-align: right;\">\n",
       "      <th></th>\n",
       "      <th>BTC</th>\n",
       "      <th>EUR</th>\n",
       "    </tr>\n",
       "  </thead>\n",
       "  <tbody>\n",
       "    <tr>\n",
       "      <th>available</th>\n",
       "      <td>0.0530287336346057</td>\n",
       "      <td>111.20729729368185</td>\n",
       "    </tr>\n",
       "    <tr>\n",
       "      <th>balance</th>\n",
       "      <td>0.0530287336346057</td>\n",
       "      <td>164.2057972936818500</td>\n",
       "    </tr>\n",
       "    <tr>\n",
       "      <th>currency</th>\n",
       "      <td>BTC</td>\n",
       "      <td>EUR</td>\n",
       "    </tr>\n",
       "    <tr>\n",
       "      <th>hold</th>\n",
       "      <td>0.0000000000000000</td>\n",
       "      <td>52.9985000000000000</td>\n",
       "    </tr>\n",
       "    <tr>\n",
       "      <th>id</th>\n",
       "      <td>459d001f-0391-4e97-89e7-ae474275e2c9</td>\n",
       "      <td>0a0fd378-71d0-4d5c-b7bb-0b48b1ff839c</td>\n",
       "    </tr>\n",
       "    <tr>\n",
       "      <th>profile_id</th>\n",
       "      <td>5100622b-3ed2-49e4-9810-c28fb96d30b3</td>\n",
       "      <td>5100622b-3ed2-49e4-9810-c28fb96d30b3</td>\n",
       "    </tr>\n",
       "  </tbody>\n",
       "</table>\n",
       "</div>"
      ],
      "text/plain": [
       "                                             BTC  \\\n",
       "available                     0.0530287336346057   \n",
       "balance                       0.0530287336346057   \n",
       "currency                                     BTC   \n",
       "hold                          0.0000000000000000   \n",
       "id          459d001f-0391-4e97-89e7-ae474275e2c9   \n",
       "profile_id  5100622b-3ed2-49e4-9810-c28fb96d30b3   \n",
       "\n",
       "                                             EUR  \n",
       "available                     111.20729729368185  \n",
       "balance                     164.2057972936818500  \n",
       "currency                                     EUR  \n",
       "hold                         52.9985000000000000  \n",
       "id          0a0fd378-71d0-4d5c-b7bb-0b48b1ff839c  \n",
       "profile_id  5100622b-3ed2-49e4-9810-c28fb96d30b3  "
      ]
     },
     "execution_count": 171,
     "metadata": {},
     "output_type": "execute_result"
    }
   ],
   "source": [
    "balances"
   ]
  },
  {
   "cell_type": "code",
   "execution_count": 351,
   "metadata": {
    "ExecuteTime": {
     "end_time": "2018-08-17T18:38:12.164254Z",
     "start_time": "2018-08-17T18:38:09.941144Z"
    }
   },
   "outputs": [
    {
     "name": "stdout",
     "output_type": "stream",
     "text": [
      "connected to mongo collection\n"
     ]
    }
   ],
   "source": [
    "from pymongo import MongoClient\n",
    "import time\n",
    "import api_keys\n",
    "import requests\n",
    "import gdax\n",
    "import random as random\n",
    "import json\n",
    "import pandas as pd\n",
    "\n",
    "api = api_keys.api_keys()\n",
    "\n",
    "client = MongoClient(api.mongo)\n",
    "# specify the database and collection`\n",
    "db = client.gdax.gdaxws\n",
    "print(\"connected to mongo collection\")\n",
    "\n",
    "# and store in local variables\n",
    "key = api.api_key\n",
    "b64secret = api.secret_key\n",
    "passphrase = api.passphrase\n",
    "\n",
    "class clearingmaster():\n",
    "    def __init__(self, maxopenbuyorders = 4 ,**kwargs):\n",
    "        self.maxopenbuyorders = maxopenbuyorders\n",
    "        self.heartbeat_rate = 3600*1.5  # seconds before we auto cancel limit order\n",
    "        self.marketBTCUSD = client.get_product_ticker(\"BTC-USD\")\n",
    "        self.marketBTCEUR = client.get_product_ticker(\"BTC-EUR\")\n",
    "        self.exchangerate = float(self.marketBTCEUR[\"price\"]) / float(self.marketBTCUSD[\"price\"])\n",
    "\n",
    "    def getorders(self):\n",
    "        \"\"\"{'id': 'e22c9172-0276-47f7-b774-2559784c26aa', 'price': '999.85000000', \n",
    "            'size': '0.01000000', 'product_id': 'BTC-EUR', 'side': 'buy', \n",
    "            'type': 'limit', 'time_in_force': 'GTC', 'post_only': True,\n",
    "            'created_at': '2018-08-17T14:57:18.551778Z', 'fill_fees': '0.0000000000000000',\n",
    "            'filled_size': '0.00000000', 'executed_value': '0.0000000000000000', \n",
    "            'status': 'open', 'settled': False}\"\"\"\n",
    "    \n",
    "        openorders = client.get_orders()[0]\n",
    "        df_openorders = pd.DataFrame(openorders).query('product_id == \"BTC-EUR\"')\n",
    "        df_openorders['created_at'] = pd.to_datetime(df_openorders['created_at'])\n",
    "        self.df_openorders = df_openorders\n",
    "        #print('DAXY DEBUG', self.df_openorders)\n",
    "        \n",
    "    def getbalances(self):\n",
    "        \"\"\"{'id': '459d001f-0391-4e97-89e7-ae474275e2c9', 'currency': 'BTC',\n",
    "            'balance': '0.0530287336346057', 'available': '0.0530287336346057',\n",
    "            'hold': '0.0000000000000000', 'profile_id': '5100622b-3ed2-49e4-9810-c28fb96d30b3'} \"\"\"\n",
    "\n",
    "        balances = client.get_accounts()\n",
    "        df_balances = pd.DataFrame(balances).query('currency in (\"BTC\",\"EUR\")').T\n",
    "        df_balances.rename(columns=df_balances.loc['currency'], inplace=True)\n",
    "        \n",
    "        l = ['available','balance','hold']        \n",
    "        self.df_balances = client.cm_.df_balances.loc[l].astype('float')\n",
    "        #print('DAXY DEBUG', self.df_balances)\n",
    "\n",
    "    def getclearance(self, kwargs_dict):\n",
    "        try:\n",
    "            orderprice = kwargs_dict['price'] * kwargs_dict['size']\n",
    "            print('DAXY CM order received total price: {}'.format(orderprice))\n",
    "            self.getbalances()\n",
    "            self.getorders()\n",
    "        except KeyError:\n",
    "            print('DAXY CM KeyError calculating orderprice')\n",
    "            print('DAXY CM KeyError rejecting order request')\n",
    "            return False\n",
    "\n",
    "        if self.df_balances['EUR']['available'] <= orderprice:\n",
    "            print('DAXY CM insufficient funds')\n",
    "            return False\n",
    "        elif len() >= self.maxopenbuyorders:\n",
    "            print('DAXY CM maximum limit orders reached')\n",
    "            return False\n",
    "        else:\n",
    "            return True\n",
    "\n",
    "    def heartbeat(self, **kwargs):\n",
    "        self.getorders()\n",
    "        cutoffdate = pd.to_datetime(time.time()-self.heartbeat_rate, unit='s')\n",
    "        to_terminate = self.df_openorders[self.df_openorders[\"created_at\"]<cutoffdate]['id']\n",
    "        for idtoterminate in to_terminate:\n",
    "            response_cancel = client.cancel_order(idtoterminate) \n",
    "            print('DAXY CANCELLED old order : {}'.format(response_cancel))\n",
    "\n",
    "class GAC(gdax.AuthenticatedClient):\n",
    "    def __clearingmaster__(self):\n",
    "        self.cm_ = clearingmaster()\n",
    "        self.timeout = 15\n",
    "\n",
    "    def buy(self, **kwargs):\n",
    "        \"\"\"client.buy(size=\"0.005000000\",\n",
    "                product_id=\"BTC-EUR\",\n",
    "                side=\"buy\",\n",
    "                stp=\"dc\",\n",
    "                type=\"limit\")\n",
    "                \n",
    "            from CB PRO website\n",
    "                {\"id\": \"d0c5340b-6d6c-49d9-b567-48c4bfca13d2\",\n",
    "                \"price\": \"0.10000000\",\n",
    "                \"size\": \"0.01000000\",\n",
    "                \"product_id\": \"BTC-USD\",\n",
    "                \"side\": \"buy\",\n",
    "                \"stp\": \"dc\",\n",
    "                \"type\": \"limit\",\n",
    "                \"time_in_force\": \"GTC\",\n",
    "                \"post_only\": false,\n",
    "                \"created_at\": \"2016-12-08T20:02:28.53864Z\",\n",
    "                \"fill_fees\": \"0.0000000000000000\",\n",
    "                \"filled_size\": \"0.00000000\",\n",
    "                \"executed_value\": \"0.0000000000000000\",\n",
    "                \"status\": \"pending\",\n",
    "                \"settled\": false}\"\"\"\n",
    "\n",
    "        kwargs[\"side\"] = \"buy\"\n",
    "        kwargs[\"type\"] = \"limit\"\n",
    "        trade_request = self.cm_.getclearance(kwargs_dict=kwargs)\n",
    "        \n",
    "        if trade_request == True:\n",
    "            r = requests.post(self.url + '/orders',\n",
    "                            data=json.dumps(kwargs),\n",
    "                            auth=self.auth,\n",
    "                            timeout=30)\n",
    "\n",
    "            print(r)\n",
    "            r = r.json()\n",
    "            r.update({'MONGOKEY':'BUY_ORDER','timestamp':time.time()})\n",
    "            db.insert_one(r)\n",
    "            print('DAXY BOUGHT inserted in mongo')\n",
    "            return r\n",
    "        else:\n",
    "            print('DAXY CM no permission')\n",
    "\n",
    "    def sell(self, **kwargs):\n",
    "        \"\"\"client.sell(size=\"0.005000000\",\n",
    "                product_id=\"BTC-EUR\",\n",
    "                side=\"sell\",\n",
    "                stp=\"dc\",\n",
    "                type=\"limit\")\"\"\"\n",
    "\n",
    "        kwargs[\"side\"] = \"sell\"\n",
    "        r = requests.post(self.url + '/orders',\n",
    "                          data=json.dumps(kwargs),\n",
    "                          auth=self.auth,\n",
    "                          timeout=30)\n",
    "\n",
    "        print('SOLD !!')\n",
    "        print(r)\n",
    "        r.update({'MONGOKEY':'SELL_ORDER','timestamp':time.time()})\n",
    "        db.insert_one(r.json())\n",
    "        print('DAXY SOLD inserted in mongo')\n",
    "        return r.json()\n",
    "\n",
    "if __name__ == \"__main__\":\n",
    "    client = GAC(key=key,b64secret=b64secret,\n",
    "                 passphrase=passphrase,\n",
    "                 api_url=\"https://api.pro.coinbase.com\")\n",
    "    \n",
    "    client.__clearingmaster__() # set clearing master\n",
    "    client.cm_.getorders()\n",
    "    p_change = {}\n",
    "    counter=0"
   ]
  },
  {
   "cell_type": "code",
   "execution_count": 352,
   "metadata": {
    "ExecuteTime": {
     "end_time": "2018-08-17T18:38:14.099051Z",
     "start_time": "2018-08-17T18:38:12.268388Z"
    }
   },
   "outputs": [],
   "source": [
    "client = GAC(key=key,b64secret=b64secret,\n",
    "                 passphrase=passphrase,\n",
    "                 api_url=\"https://api.pro.coinbase.com\")\n",
    "    \n",
    "client.__clearingmaster__() # set clearing master\n",
    "client.cm_.getorders()"
   ]
  },
  {
   "cell_type": "code",
   "execution_count": 353,
   "metadata": {
    "ExecuteTime": {
     "end_time": "2018-08-17T18:38:15.678345Z",
     "start_time": "2018-08-17T18:38:14.179443Z"
    }
   },
   "outputs": [
    {
     "name": "stdout",
     "output_type": "stream",
     "text": [
      "DAXY CANCELLED old order : ['27f67f32-7926-4626-92e6-e171a1cf26e8']\n",
      "DAXY CANCELLED old order : ['96c92a01-a098-45b2-8181-38992b6db7c4']\n"
     ]
    }
   ],
   "source": [
    "client.cm_.heartbeat()"
   ]
  },
  {
   "cell_type": "code",
   "execution_count": 345,
   "metadata": {
    "ExecuteTime": {
     "end_time": "2018-08-17T18:32:20.839618Z",
     "start_time": "2018-08-17T18:32:20.833693Z"
    }
   },
   "outputs": [
    {
     "data": {
      "text/plain": [
       "Timestamp('2018-08-17 16:52:20.662225')"
      ]
     },
     "execution_count": 345,
     "metadata": {},
     "output_type": "execute_result"
    }
   ],
   "source": [
    "t"
   ]
  },
  {
   "cell_type": "code",
   "execution_count": 346,
   "metadata": {
    "ExecuteTime": {
     "end_time": "2018-08-17T18:32:21.046251Z",
     "start_time": "2018-08-17T18:32:21.041981Z"
    }
   },
   "outputs": [],
   "source": [
    "dfs = client.cm_.df_openorders"
   ]
  },
  {
   "cell_type": "code",
   "execution_count": 347,
   "metadata": {
    "ExecuteTime": {
     "end_time": "2018-08-17T18:32:21.322907Z",
     "start_time": "2018-08-17T18:32:21.296624Z"
    }
   },
   "outputs": [
    {
     "data": {
      "text/html": [
       "<div>\n",
       "<style scoped>\n",
       "    .dataframe tbody tr th:only-of-type {\n",
       "        vertical-align: middle;\n",
       "    }\n",
       "\n",
       "    .dataframe tbody tr th {\n",
       "        vertical-align: top;\n",
       "    }\n",
       "\n",
       "    .dataframe thead th {\n",
       "        text-align: right;\n",
       "    }\n",
       "</style>\n",
       "<table border=\"1\" class=\"dataframe\">\n",
       "  <thead>\n",
       "    <tr style=\"text-align: right;\">\n",
       "      <th></th>\n",
       "      <th>created_at</th>\n",
       "      <th>executed_value</th>\n",
       "      <th>fill_fees</th>\n",
       "      <th>filled_size</th>\n",
       "      <th>id</th>\n",
       "      <th>post_only</th>\n",
       "      <th>price</th>\n",
       "      <th>product_id</th>\n",
       "      <th>settled</th>\n",
       "      <th>side</th>\n",
       "      <th>size</th>\n",
       "      <th>status</th>\n",
       "      <th>time_in_force</th>\n",
       "      <th>type</th>\n",
       "    </tr>\n",
       "  </thead>\n",
       "  <tbody>\n",
       "    <tr>\n",
       "      <th>2</th>\n",
       "      <td>2018-08-17 15:12:27.685553</td>\n",
       "      <td>0.0000000000000000</td>\n",
       "      <td>0.0000000000000000</td>\n",
       "      <td>0.00000000</td>\n",
       "      <td>96c92a01-a098-45b2-8181-38992b6db7c4</td>\n",
       "      <td>True</td>\n",
       "      <td>3000.00000000</td>\n",
       "      <td>BTC-EUR</td>\n",
       "      <td>False</td>\n",
       "      <td>buy</td>\n",
       "      <td>0.00100000</td>\n",
       "      <td>open</td>\n",
       "      <td>GTC</td>\n",
       "      <td>limit</td>\n",
       "    </tr>\n",
       "  </tbody>\n",
       "</table>\n",
       "</div>"
      ],
      "text/plain": [
       "                  created_at      executed_value           fill_fees  \\\n",
       "2 2018-08-17 15:12:27.685553  0.0000000000000000  0.0000000000000000   \n",
       "\n",
       "  filled_size                                    id  post_only          price  \\\n",
       "2  0.00000000  96c92a01-a098-45b2-8181-38992b6db7c4       True  3000.00000000   \n",
       "\n",
       "  product_id  settled side        size status time_in_force   type  \n",
       "2    BTC-EUR    False  buy  0.00100000   open           GTC  limit  "
      ]
     },
     "execution_count": 347,
     "metadata": {},
     "output_type": "execute_result"
    }
   ],
   "source": [
    "dfs[dfs['created_at']<t]"
   ]
  },
  {
   "cell_type": "code",
   "execution_count": 321,
   "metadata": {
    "ExecuteTime": {
     "end_time": "2018-08-17T18:26:53.796182Z",
     "start_time": "2018-08-17T18:26:53.793214Z"
    }
   },
   "outputs": [],
   "source": [
    "t = pd.to_datetime(time.time()-6000,unit='s')"
   ]
  },
  {
   "cell_type": "code",
   "execution_count": 332,
   "metadata": {
    "ExecuteTime": {
     "end_time": "2018-08-17T18:29:24.416409Z",
     "start_time": "2018-08-17T18:29:24.392560Z"
    }
   },
   "outputs": [
    {
     "data": {
      "text/html": [
       "<div>\n",
       "<style scoped>\n",
       "    .dataframe tbody tr th:only-of-type {\n",
       "        vertical-align: middle;\n",
       "    }\n",
       "\n",
       "    .dataframe tbody tr th {\n",
       "        vertical-align: top;\n",
       "    }\n",
       "\n",
       "    .dataframe thead th {\n",
       "        text-align: right;\n",
       "    }\n",
       "</style>\n",
       "<table border=\"1\" class=\"dataframe\">\n",
       "  <thead>\n",
       "    <tr style=\"text-align: right;\">\n",
       "      <th></th>\n",
       "      <th>created_at</th>\n",
       "      <th>executed_value</th>\n",
       "      <th>fill_fees</th>\n",
       "      <th>filled_size</th>\n",
       "      <th>id</th>\n",
       "      <th>post_only</th>\n",
       "      <th>price</th>\n",
       "      <th>product_id</th>\n",
       "      <th>settled</th>\n",
       "      <th>side</th>\n",
       "      <th>size</th>\n",
       "      <th>status</th>\n",
       "      <th>time_in_force</th>\n",
       "      <th>type</th>\n",
       "    </tr>\n",
       "  </thead>\n",
       "  <tbody>\n",
       "    <tr>\n",
       "      <th>0</th>\n",
       "      <td>2018-08-17 17:03:32.650350</td>\n",
       "      <td>0.0000000000000000</td>\n",
       "      <td>0.0000000000000000</td>\n",
       "      <td>0.00000000</td>\n",
       "      <td>27f67f32-7926-4626-92e6-e171a1cf26e8</td>\n",
       "      <td>False</td>\n",
       "      <td>3000.00000000</td>\n",
       "      <td>BTC-EUR</td>\n",
       "      <td>False</td>\n",
       "      <td>buy</td>\n",
       "      <td>0.01000000</td>\n",
       "      <td>open</td>\n",
       "      <td>GTC</td>\n",
       "      <td>limit</td>\n",
       "    </tr>\n",
       "    <tr>\n",
       "      <th>2</th>\n",
       "      <td>2018-08-17 15:12:27.685553</td>\n",
       "      <td>0.0000000000000000</td>\n",
       "      <td>0.0000000000000000</td>\n",
       "      <td>0.00000000</td>\n",
       "      <td>96c92a01-a098-45b2-8181-38992b6db7c4</td>\n",
       "      <td>True</td>\n",
       "      <td>3000.00000000</td>\n",
       "      <td>BTC-EUR</td>\n",
       "      <td>False</td>\n",
       "      <td>buy</td>\n",
       "      <td>0.00100000</td>\n",
       "      <td>open</td>\n",
       "      <td>GTC</td>\n",
       "      <td>limit</td>\n",
       "    </tr>\n",
       "  </tbody>\n",
       "</table>\n",
       "</div>"
      ],
      "text/plain": [
       "                  created_at      executed_value           fill_fees  \\\n",
       "0 2018-08-17 17:03:32.650350  0.0000000000000000  0.0000000000000000   \n",
       "2 2018-08-17 15:12:27.685553  0.0000000000000000  0.0000000000000000   \n",
       "\n",
       "  filled_size                                    id  post_only          price  \\\n",
       "0  0.00000000  27f67f32-7926-4626-92e6-e171a1cf26e8      False  3000.00000000   \n",
       "2  0.00000000  96c92a01-a098-45b2-8181-38992b6db7c4       True  3000.00000000   \n",
       "\n",
       "  product_id  settled side        size status time_in_force   type  \n",
       "0    BTC-EUR    False  buy  0.01000000   open           GTC  limit  \n",
       "2    BTC-EUR    False  buy  0.00100000   open           GTC  limit  "
      ]
     },
     "execution_count": 332,
     "metadata": {},
     "output_type": "execute_result"
    }
   ],
   "source": [
    "client.cm_.df_openorders['']"
   ]
  },
  {
   "cell_type": "code",
   "execution_count": 323,
   "metadata": {
    "ExecuteTime": {
     "end_time": "2018-08-17T18:26:54.445318Z",
     "start_time": "2018-08-17T18:26:54.423483Z"
    }
   },
   "outputs": [
    {
     "data": {
      "text/html": [
       "<div>\n",
       "<style scoped>\n",
       "    .dataframe tbody tr th:only-of-type {\n",
       "        vertical-align: middle;\n",
       "    }\n",
       "\n",
       "    .dataframe tbody tr th {\n",
       "        vertical-align: top;\n",
       "    }\n",
       "\n",
       "    .dataframe thead th {\n",
       "        text-align: right;\n",
       "    }\n",
       "</style>\n",
       "<table border=\"1\" class=\"dataframe\">\n",
       "  <thead>\n",
       "    <tr style=\"text-align: right;\">\n",
       "      <th></th>\n",
       "      <th>created_at</th>\n",
       "      <th>executed_value</th>\n",
       "      <th>fill_fees</th>\n",
       "      <th>filled_size</th>\n",
       "      <th>id</th>\n",
       "      <th>post_only</th>\n",
       "      <th>price</th>\n",
       "      <th>product_id</th>\n",
       "      <th>settled</th>\n",
       "      <th>side</th>\n",
       "      <th>size</th>\n",
       "      <th>status</th>\n",
       "      <th>time_in_force</th>\n",
       "      <th>type</th>\n",
       "    </tr>\n",
       "  </thead>\n",
       "  <tbody>\n",
       "    <tr>\n",
       "      <th>0</th>\n",
       "      <td>2018-08-17 17:03:32.650350</td>\n",
       "      <td>0.0000000000000000</td>\n",
       "      <td>0.0000000000000000</td>\n",
       "      <td>0.00000000</td>\n",
       "      <td>27f67f32-7926-4626-92e6-e171a1cf26e8</td>\n",
       "      <td>False</td>\n",
       "      <td>3000.00000000</td>\n",
       "      <td>BTC-EUR</td>\n",
       "      <td>False</td>\n",
       "      <td>buy</td>\n",
       "      <td>0.01000000</td>\n",
       "      <td>open</td>\n",
       "      <td>GTC</td>\n",
       "      <td>limit</td>\n",
       "    </tr>\n",
       "  </tbody>\n",
       "</table>\n",
       "</div>"
      ],
      "text/plain": [
       "                   created_at      executed_value           fill_fees  \\\n",
       "0  2018-08-17 17:03:32.650350  0.0000000000000000  0.0000000000000000   \n",
       "\n",
       "  filled_size                                    id post_only          price  \\\n",
       "0  0.00000000  27f67f32-7926-4626-92e6-e171a1cf26e8     False  3000.00000000   \n",
       "\n",
       "  product_id settled side        size status time_in_force   type  \n",
       "0    BTC-EUR   False  buy  0.01000000   open           GTC  limit  "
      ]
     },
     "execution_count": 323,
     "metadata": {},
     "output_type": "execute_result"
    }
   ],
   "source": [
    "dfs[dfs['created_at']>t]"
   ]
  },
  {
   "cell_type": "code",
   "execution_count": 312,
   "metadata": {
    "ExecuteTime": {
     "end_time": "2018-08-17T18:25:56.201439Z",
     "start_time": "2018-08-17T18:25:56.182887Z"
    }
   },
   "outputs": [
    {
     "data": {
      "text/html": [
       "<div>\n",
       "<style scoped>\n",
       "    .dataframe tbody tr th:only-of-type {\n",
       "        vertical-align: middle;\n",
       "    }\n",
       "\n",
       "    .dataframe tbody tr th {\n",
       "        vertical-align: top;\n",
       "    }\n",
       "\n",
       "    .dataframe thead th {\n",
       "        text-align: right;\n",
       "    }\n",
       "</style>\n",
       "<table border=\"1\" class=\"dataframe\">\n",
       "  <thead>\n",
       "    <tr style=\"text-align: right;\">\n",
       "      <th></th>\n",
       "      <th>created_at</th>\n",
       "      <th>executed_value</th>\n",
       "      <th>fill_fees</th>\n",
       "      <th>filled_size</th>\n",
       "      <th>id</th>\n",
       "      <th>post_only</th>\n",
       "      <th>price</th>\n",
       "      <th>product_id</th>\n",
       "      <th>settled</th>\n",
       "      <th>side</th>\n",
       "      <th>size</th>\n",
       "      <th>status</th>\n",
       "      <th>time_in_force</th>\n",
       "      <th>type</th>\n",
       "    </tr>\n",
       "  </thead>\n",
       "  <tbody>\n",
       "    <tr>\n",
       "      <th>0</th>\n",
       "      <td>2018-08-17 17:03:32.650350</td>\n",
       "      <td>0.0000000000000000</td>\n",
       "      <td>0.0000000000000000</td>\n",
       "      <td>0.00000000</td>\n",
       "      <td>27f67f32-7926-4626-92e6-e171a1cf26e8</td>\n",
       "      <td>False</td>\n",
       "      <td>3000.00000000</td>\n",
       "      <td>BTC-EUR</td>\n",
       "      <td>False</td>\n",
       "      <td>buy</td>\n",
       "      <td>0.01000000</td>\n",
       "      <td>open</td>\n",
       "      <td>GTC</td>\n",
       "      <td>limit</td>\n",
       "    </tr>\n",
       "    <tr>\n",
       "      <th>2</th>\n",
       "      <td>2018-08-17 15:12:27.685553</td>\n",
       "      <td>0.0000000000000000</td>\n",
       "      <td>0.0000000000000000</td>\n",
       "      <td>0.00000000</td>\n",
       "      <td>96c92a01-a098-45b2-8181-38992b6db7c4</td>\n",
       "      <td>True</td>\n",
       "      <td>3000.00000000</td>\n",
       "      <td>BTC-EUR</td>\n",
       "      <td>False</td>\n",
       "      <td>buy</td>\n",
       "      <td>0.00100000</td>\n",
       "      <td>open</td>\n",
       "      <td>GTC</td>\n",
       "      <td>limit</td>\n",
       "    </tr>\n",
       "  </tbody>\n",
       "</table>\n",
       "</div>"
      ],
      "text/plain": [
       "                   created_at      executed_value           fill_fees  \\\n",
       "0  2018-08-17 17:03:32.650350  0.0000000000000000  0.0000000000000000   \n",
       "2  2018-08-17 15:12:27.685553  0.0000000000000000  0.0000000000000000   \n",
       "\n",
       "  filled_size                                    id post_only          price  \\\n",
       "0  0.00000000  27f67f32-7926-4626-92e6-e171a1cf26e8     False  3000.00000000   \n",
       "2  0.00000000  96c92a01-a098-45b2-8181-38992b6db7c4      True  3000.00000000   \n",
       "\n",
       "  product_id settled side        size status time_in_force   type  \n",
       "0    BTC-EUR   False  buy  0.01000000   open           GTC  limit  \n",
       "2    BTC-EUR   False  buy  0.00100000   open           GTC  limit  "
      ]
     },
     "execution_count": 312,
     "metadata": {},
     "output_type": "execute_result"
    }
   ],
   "source": [
    "dfs[(dfs['created_at'] < pd.to_datetime(time.time()-1000,unit='s'))==True]"
   ]
  },
  {
   "cell_type": "code",
   "execution_count": 238,
   "metadata": {
    "ExecuteTime": {
     "end_time": "2018-08-17T18:04:50.924552Z",
     "start_time": "2018-08-17T18:04:50.914399Z"
    }
   },
   "outputs": [],
   "source": [
    "df_openorders = pd.DataFrame(openorders).query('product_id == \"BTC-EUR\"')"
   ]
  },
  {
   "cell_type": "code",
   "execution_count": 333,
   "metadata": {
    "ExecuteTime": {
     "end_time": "2018-08-17T18:29:58.740664Z",
     "start_time": "2018-08-17T18:29:58.734527Z"
    }
   },
   "outputs": [
    {
     "ename": "SyntaxError",
     "evalue": "invalid syntax (<ipython-input-333-aec5782e148d>, line 1)",
     "output_type": "error",
     "traceback": [
      "\u001b[0;36m  File \u001b[0;32m\"<ipython-input-333-aec5782e148d>\"\u001b[0;36m, line \u001b[0;32m1\u001b[0m\n\u001b[0;31m    if 5 > 4 as e:\u001b[0m\n\u001b[0m              ^\u001b[0m\n\u001b[0;31mSyntaxError\u001b[0m\u001b[0;31m:\u001b[0m invalid syntax\n"
     ]
    }
   ],
   "source": [
    "if 5 > 4 as e:\n",
    "    print(e)"
   ]
  },
  {
   "cell_type": "code",
   "execution_count": 249,
   "metadata": {
    "ExecuteTime": {
     "end_time": "2018-08-17T18:05:51.499978Z",
     "start_time": "2018-08-17T18:05:51.490251Z"
    }
   },
   "outputs": [],
   "source": [
    "df_openorders.loc['created_at'] = pd.to_datetime(df_openorders['created_at'])"
   ]
  },
  {
   "cell_type": "code",
   "execution_count": 250,
   "metadata": {
    "ExecuteTime": {
     "end_time": "2018-08-17T18:05:53.116945Z",
     "start_time": "2018-08-17T18:05:53.107879Z"
    }
   },
   "outputs": [
    {
     "data": {
      "text/plain": [
       "Timestamp('2018-08-17 17:03:32.650350')"
      ]
     },
     "execution_count": 250,
     "metadata": {},
     "output_type": "execute_result"
    }
   ],
   "source": [
    "df_openorders.iloc[0][0]"
   ]
  },
  {
   "cell_type": "code",
   "execution_count": 202,
   "metadata": {
    "ExecuteTime": {
     "end_time": "2018-08-17T17:51:16.704375Z",
     "start_time": "2018-08-17T17:51:16.690887Z"
    }
   },
   "outputs": [
    {
     "data": {
      "text/html": [
       "<div>\n",
       "<style scoped>\n",
       "    .dataframe tbody tr th:only-of-type {\n",
       "        vertical-align: middle;\n",
       "    }\n",
       "\n",
       "    .dataframe tbody tr th {\n",
       "        vertical-align: top;\n",
       "    }\n",
       "\n",
       "    .dataframe thead th {\n",
       "        text-align: right;\n",
       "    }\n",
       "</style>\n",
       "<table border=\"1\" class=\"dataframe\">\n",
       "  <thead>\n",
       "    <tr style=\"text-align: right;\">\n",
       "      <th></th>\n",
       "      <th>0</th>\n",
       "      <th>2</th>\n",
       "    </tr>\n",
       "  </thead>\n",
       "  <tbody>\n",
       "    <tr>\n",
       "      <th>created_at</th>\n",
       "      <td>2018-08-17T17:03:32.65035Z</td>\n",
       "      <td>2018-08-17T15:12:27.685553Z</td>\n",
       "    </tr>\n",
       "    <tr>\n",
       "      <th>executed_value</th>\n",
       "      <td>0.0000000000000000</td>\n",
       "      <td>0.0000000000000000</td>\n",
       "    </tr>\n",
       "    <tr>\n",
       "      <th>fill_fees</th>\n",
       "      <td>0.0000000000000000</td>\n",
       "      <td>0.0000000000000000</td>\n",
       "    </tr>\n",
       "    <tr>\n",
       "      <th>filled_size</th>\n",
       "      <td>0.00000000</td>\n",
       "      <td>0.00000000</td>\n",
       "    </tr>\n",
       "    <tr>\n",
       "      <th>id</th>\n",
       "      <td>27f67f32-7926-4626-92e6-e171a1cf26e8</td>\n",
       "      <td>96c92a01-a098-45b2-8181-38992b6db7c4</td>\n",
       "    </tr>\n",
       "    <tr>\n",
       "      <th>post_only</th>\n",
       "      <td>False</td>\n",
       "      <td>True</td>\n",
       "    </tr>\n",
       "    <tr>\n",
       "      <th>price</th>\n",
       "      <td>3000.00000000</td>\n",
       "      <td>3000.00000000</td>\n",
       "    </tr>\n",
       "    <tr>\n",
       "      <th>product_id</th>\n",
       "      <td>BTC-EUR</td>\n",
       "      <td>BTC-EUR</td>\n",
       "    </tr>\n",
       "    <tr>\n",
       "      <th>settled</th>\n",
       "      <td>False</td>\n",
       "      <td>False</td>\n",
       "    </tr>\n",
       "    <tr>\n",
       "      <th>side</th>\n",
       "      <td>buy</td>\n",
       "      <td>buy</td>\n",
       "    </tr>\n",
       "    <tr>\n",
       "      <th>size</th>\n",
       "      <td>0.01000000</td>\n",
       "      <td>0.00100000</td>\n",
       "    </tr>\n",
       "    <tr>\n",
       "      <th>status</th>\n",
       "      <td>open</td>\n",
       "      <td>open</td>\n",
       "    </tr>\n",
       "    <tr>\n",
       "      <th>time_in_force</th>\n",
       "      <td>GTC</td>\n",
       "      <td>GTC</td>\n",
       "    </tr>\n",
       "    <tr>\n",
       "      <th>type</th>\n",
       "      <td>limit</td>\n",
       "      <td>limit</td>\n",
       "    </tr>\n",
       "  </tbody>\n",
       "</table>\n",
       "</div>"
      ],
      "text/plain": [
       "                                                   0  \\\n",
       "created_at                2018-08-17T17:03:32.65035Z   \n",
       "executed_value                    0.0000000000000000   \n",
       "fill_fees                         0.0000000000000000   \n",
       "filled_size                               0.00000000   \n",
       "id              27f67f32-7926-4626-92e6-e171a1cf26e8   \n",
       "post_only                                      False   \n",
       "price                                  3000.00000000   \n",
       "product_id                                   BTC-EUR   \n",
       "settled                                        False   \n",
       "side                                             buy   \n",
       "size                                      0.01000000   \n",
       "status                                          open   \n",
       "time_in_force                                    GTC   \n",
       "type                                           limit   \n",
       "\n",
       "                                                   2  \n",
       "created_at               2018-08-17T15:12:27.685553Z  \n",
       "executed_value                    0.0000000000000000  \n",
       "fill_fees                         0.0000000000000000  \n",
       "filled_size                               0.00000000  \n",
       "id              96c92a01-a098-45b2-8181-38992b6db7c4  \n",
       "post_only                                       True  \n",
       "price                                  3000.00000000  \n",
       "product_id                                   BTC-EUR  \n",
       "settled                                        False  \n",
       "side                                             buy  \n",
       "size                                      0.00100000  \n",
       "status                                          open  \n",
       "time_in_force                                    GTC  \n",
       "type                                           limit  "
      ]
     },
     "execution_count": 202,
     "metadata": {},
     "output_type": "execute_result"
    }
   ],
   "source": [
    "self.openorders = client.get_orders()[0]\n",
    "self.df_openorders = pd.DataFrame(self.openorders).query('product_id == \"BTC-EUR\"')\n",
    "self.df_openorders.loc['created_at'] = pd.to_datetime(self.df_openorders['created_at'])\n",
    "self.df_openorders = self.df_openorders.T "
   ]
  },
  {
   "cell_type": "code",
   "execution_count": 205,
   "metadata": {
    "ExecuteTime": {
     "end_time": "2018-08-17T17:51:42.643416Z",
     "start_time": "2018-08-17T17:51:42.637567Z"
    }
   },
   "outputs": [
    {
     "data": {
      "text/plain": [
       "'2018-08-17T17:03:32.65035Z'"
      ]
     },
     "execution_count": 205,
     "metadata": {},
     "output_type": "execute_result"
    }
   ],
   "source": [
    "o.loc['created_at'][0]"
   ]
  },
  {
   "cell_type": "code",
   "execution_count": 208,
   "metadata": {
    "ExecuteTime": {
     "end_time": "2018-08-17T17:53:28.666522Z",
     "start_time": "2018-08-17T17:53:28.653243Z"
    }
   },
   "outputs": [
    {
     "ename": "TypeError",
     "evalue": "invalid type comparison",
     "output_type": "error",
     "traceback": [
      "\u001b[0;31m---------------------------------------------------------------------------\u001b[0m",
      "\u001b[0;31mTypeError\u001b[0m                                 Traceback (most recent call last)",
      "\u001b[0;32m<ipython-input-208-75ec0215adc7>\u001b[0m in \u001b[0;36m<module>\u001b[0;34m()\u001b[0m\n\u001b[0;32m----> 1\u001b[0;31m \u001b[0mpd\u001b[0m\u001b[0;34m.\u001b[0m\u001b[0mto_datetime\u001b[0m\u001b[0;34m(\u001b[0m\u001b[0mo\u001b[0m\u001b[0;34m.\u001b[0m\u001b[0mloc\u001b[0m\u001b[0;34m[\u001b[0m\u001b[0;34m'created_at'\u001b[0m\u001b[0;34m]\u001b[0m\u001b[0;34m)\u001b[0m\u001b[0;34m>\u001b[0m\u001b[0mtime\u001b[0m\u001b[0;34m.\u001b[0m\u001b[0mtime\u001b[0m\u001b[0;34m(\u001b[0m\u001b[0;34m)\u001b[0m\u001b[0;34m\u001b[0m\u001b[0m\n\u001b[0m",
      "\u001b[0;32m~/anaconda/lib/python3.6/site-packages/pandas/core/ops.py\u001b[0m in \u001b[0;36mwrapper\u001b[0;34m(self, other, axis)\u001b[0m\n\u001b[1;32m    877\u001b[0m \u001b[0;34m\u001b[0m\u001b[0m\n\u001b[1;32m    878\u001b[0m             \u001b[0;32mwith\u001b[0m \u001b[0mnp\u001b[0m\u001b[0;34m.\u001b[0m\u001b[0merrstate\u001b[0m\u001b[0;34m(\u001b[0m\u001b[0mall\u001b[0m\u001b[0;34m=\u001b[0m\u001b[0;34m'ignore'\u001b[0m\u001b[0;34m)\u001b[0m\u001b[0;34m:\u001b[0m\u001b[0;34m\u001b[0m\u001b[0m\n\u001b[0;32m--> 879\u001b[0;31m                 \u001b[0mres\u001b[0m \u001b[0;34m=\u001b[0m \u001b[0mna_op\u001b[0m\u001b[0;34m(\u001b[0m\u001b[0mvalues\u001b[0m\u001b[0;34m,\u001b[0m \u001b[0mother\u001b[0m\u001b[0;34m)\u001b[0m\u001b[0;34m\u001b[0m\u001b[0m\n\u001b[0m\u001b[1;32m    880\u001b[0m             \u001b[0;32mif\u001b[0m \u001b[0mis_scalar\u001b[0m\u001b[0;34m(\u001b[0m\u001b[0mres\u001b[0m\u001b[0;34m)\u001b[0m\u001b[0;34m:\u001b[0m\u001b[0;34m\u001b[0m\u001b[0m\n\u001b[1;32m    881\u001b[0m                 raise TypeError('Could not compare {typ} type with Series'\n",
      "\u001b[0;32m~/anaconda/lib/python3.6/site-packages/pandas/core/ops.py\u001b[0m in \u001b[0;36mna_op\u001b[0;34m(x, y)\u001b[0m\n\u001b[1;32m    790\u001b[0m             \u001b[0;31m# integer comparisons\u001b[0m\u001b[0;34m\u001b[0m\u001b[0;34m\u001b[0m\u001b[0m\n\u001b[1;32m    791\u001b[0m             \u001b[0;32mif\u001b[0m \u001b[0mis_datetimelike_v_numeric\u001b[0m\u001b[0;34m(\u001b[0m\u001b[0mx\u001b[0m\u001b[0;34m,\u001b[0m \u001b[0my\u001b[0m\u001b[0;34m)\u001b[0m\u001b[0;34m:\u001b[0m\u001b[0;34m\u001b[0m\u001b[0m\n\u001b[0;32m--> 792\u001b[0;31m                 \u001b[0;32mraise\u001b[0m \u001b[0mTypeError\u001b[0m\u001b[0;34m(\u001b[0m\u001b[0;34m\"invalid type comparison\"\u001b[0m\u001b[0;34m)\u001b[0m\u001b[0;34m\u001b[0m\u001b[0m\n\u001b[0m\u001b[1;32m    793\u001b[0m \u001b[0;34m\u001b[0m\u001b[0m\n\u001b[1;32m    794\u001b[0m             \u001b[0;31m# numpy does not like comparisons vs None\u001b[0m\u001b[0;34m\u001b[0m\u001b[0;34m\u001b[0m\u001b[0m\n",
      "\u001b[0;31mTypeError\u001b[0m: invalid type comparison"
     ]
    }
   ],
   "source": [
    "pd.to_datetime(o.loc['created_at'])>time.time()"
   ]
  },
  {
   "cell_type": "code",
   "execution_count": null,
   "metadata": {},
   "outputs": [],
   "source": [
    "pd.to_datetime(o.loc{})"
   ]
  }
 ],
 "metadata": {
  "kernelspec": {
   "display_name": "Python 3",
   "language": "python",
   "name": "python3"
  },
  "language_info": {
   "codemirror_mode": {
    "name": "ipython",
    "version": 3
   },
   "file_extension": ".py",
   "mimetype": "text/x-python",
   "name": "python",
   "nbconvert_exporter": "python",
   "pygments_lexer": "ipython3",
   "version": "3.6.4"
  },
  "varInspector": {
   "cols": {
    "lenName": 16,
    "lenType": 16,
    "lenVar": 40
   },
   "kernels_config": {
    "python": {
     "delete_cmd_postfix": "",
     "delete_cmd_prefix": "del ",
     "library": "var_list.py",
     "varRefreshCmd": "print(var_dic_list())"
    },
    "r": {
     "delete_cmd_postfix": ") ",
     "delete_cmd_prefix": "rm(",
     "library": "var_list.r",
     "varRefreshCmd": "cat(var_dic_list()) "
    }
   },
   "types_to_exclude": [
    "module",
    "function",
    "builtin_function_or_method",
    "instance",
    "_Feature"
   ],
   "window_display": false
  }
 },
 "nbformat": 4,
 "nbformat_minor": 2
}
