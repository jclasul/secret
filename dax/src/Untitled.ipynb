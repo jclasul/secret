{
 "cells": [
  {
   "cell_type": "code",
   "execution_count": 118,
   "metadata": {
    "ExecuteTime": {
     "end_time": "2018-08-17T15:45:08.729399Z",
     "start_time": "2018-08-17T15:45:08.254984Z"
    }
   },
   "outputs": [],
   "source": [
    "import pandas as pd"
   ]
  },
  {
   "cell_type": "code",
   "execution_count": 124,
   "metadata": {
    "ExecuteTime": {
     "end_time": "2018-08-17T15:46:17.172839Z",
     "start_time": "2018-08-17T15:46:17.010748Z"
    }
   },
   "outputs": [
    {
     "name": "stdout",
     "output_type": "stream",
     "text": [
      "connected to mongo collection\n"
     ]
    }
   ],
   "source": [
    "from pymongo import MongoClient\n",
    "import time\n",
    "import api_keys\n",
    "import requests\n",
    "import gdax\n",
    "import json\n",
    "\n",
    "api = api_keys.api_keys()\n",
    "\n",
    "client = MongoClient(api.mongo)\n",
    "# specify the database and collection`\n",
    "db = client.gdax.gdaxws\n",
    "print('connected to mongo collection')\n",
    "\n",
    "# and store in local variables\n",
    "key = api.api_key\n",
    "b64secret = api.secret_key\n",
    "passphrase = api.passphrase\n",
    "\n",
    "class GAC(gdax.AuthenticatedClient):\n",
    "    def buy(self, **kwargs):\n",
    "        kwargs[\"side\"] = \"buy\"\n",
    "        r = requests.post(self.url + '/orders',\n",
    "                          data=json.dumps(kwargs),\n",
    "                          auth=self.auth,\n",
    "                          timeout=30)\n",
    "\n",
    "        print(r)\n",
    "        return r.json()\n",
    "\n",
    "    def sell(self, **kwargs):\n",
    "        kwargs[\"side\"] = \"sell\"\n",
    "        r = requests.post(self.url + '/orders',\n",
    "                          data=json.dumps(kwargs),\n",
    "                          auth=self.auth,\n",
    "                          timeout=30)\n",
    "\n",
    "        print('SOLD !!')\n",
    "        print(r)\n",
    "        db.orders.insert_one(r.json())\n",
    "        return r.json()\n",
    "\n",
    "    def getorders(self):\n",
    "        \"\"\"{'id': 'e22c9172-0276-47f7-b774-2559784c26aa', 'price': '999.85000000', \n",
    "            'size': '0.01000000', 'product_id': 'BTC-EUR', 'side': 'buy', \n",
    "            'type': 'limit', 'time_in_force': 'GTC', 'post_only': True,\n",
    "            'created_at': '2018-08-17T14:57:18.551778Z', 'fill_fees': '0.0000000000000000',\n",
    "            'filled_size': '0.00000000', 'executed_value': '0.0000000000000000', \n",
    "            'status': 'open', 'settled': False}\"\"\"\n",
    "    \n",
    "        self.openorders = client.get_orders()[0]\n",
    "        self.df_openorders = pd.DataFrame(self.openorders)\n",
    "        \n",
    "    def getbalances(self):\n",
    "        \"\"\"{'id': '459d001f-0391-4e97-89e7-ae474275e2c9', 'currency': 'BTC',\n",
    "            'balance': '0.0530287336346057', 'available': '0.0530287336346057',\n",
    "            'hold': '0.0000000000000000', 'profile_id': '5100622b-3ed2-49e4-9810-c28fb96d30b3'} \"\"\"\n",
    "\n",
    "        self.balances = client.get_accounts()\n",
    "        self.df_balances = pd.DataFrame(self.balances)"
   ]
  },
  {
   "cell_type": "code",
   "execution_count": 125,
   "metadata": {
    "ExecuteTime": {
     "end_time": "2018-08-17T15:46:17.908426Z",
     "start_time": "2018-08-17T15:46:17.425183Z"
    }
   },
   "outputs": [
    {
     "name": "stdout",
     "output_type": "stream",
     "text": [
      "EUR balance at 164.2057972936818500\n",
      "BTC balance at 0.0530287336346057\n"
     ]
    }
   ],
   "source": [
    "client = GAC(key=key,b64secret=b64secret,\n",
    "                 passphrase=passphrase,\n",
    "                 api_url=\"https://api.pro.coinbase.com\")\n",
    "    \n",
    "client.getbalances()"
   ]
  },
  {
   "cell_type": "code",
   "execution_count": 126,
   "metadata": {
    "ExecuteTime": {
     "end_time": "2018-08-17T15:46:18.355775Z",
     "start_time": "2018-08-17T15:46:17.935495Z"
    }
   },
   "outputs": [],
   "source": [
    "client.getorders()"
   ]
  },
  {
   "cell_type": "code",
   "execution_count": 137,
   "metadata": {
    "ExecuteTime": {
     "end_time": "2018-08-17T16:09:39.211505Z",
     "start_time": "2018-08-17T16:09:39.202721Z"
    }
   },
   "outputs": [
    {
     "data": {
      "text/plain": [
       "2    True\n",
       "Name: available, dtype: bool"
      ]
     },
     "execution_count": 137,
     "metadata": {},
     "output_type": "execute_result"
    }
   ],
   "source": [
    "client.df_balances.query('currency == \"EUR\"')['available'].astype('float') > 100"
   ]
  },
  {
   "cell_type": "code",
   "execution_count": null,
   "metadata": {},
   "outputs": [],
   "source": []
  }
 ],
 "metadata": {
  "kernelspec": {
   "display_name": "Python 3",
   "language": "python",
   "name": "python3"
  },
  "language_info": {
   "codemirror_mode": {
    "name": "ipython",
    "version": 3
   },
   "file_extension": ".py",
   "mimetype": "text/x-python",
   "name": "python",
   "nbconvert_exporter": "python",
   "pygments_lexer": "ipython3",
   "version": "3.6.4"
  },
  "varInspector": {
   "cols": {
    "lenName": 16,
    "lenType": 16,
    "lenVar": 40
   },
   "kernels_config": {
    "python": {
     "delete_cmd_postfix": "",
     "delete_cmd_prefix": "del ",
     "library": "var_list.py",
     "varRefreshCmd": "print(var_dic_list())"
    },
    "r": {
     "delete_cmd_postfix": ") ",
     "delete_cmd_prefix": "rm(",
     "library": "var_list.r",
     "varRefreshCmd": "cat(var_dic_list()) "
    }
   },
   "types_to_exclude": [
    "module",
    "function",
    "builtin_function_or_method",
    "instance",
    "_Feature"
   ],
   "window_display": false
  }
 },
 "nbformat": 4,
 "nbformat_minor": 2
}
